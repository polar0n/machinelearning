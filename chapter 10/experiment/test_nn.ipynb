{
 "cells": [
  {
   "cell_type": "code",
   "execution_count": 19,
   "metadata": {},
   "outputs": [],
   "source": [
    "from os import listdir\n",
    "\n",
    "\n",
    "FOLDER = 'digits_exp'\n",
    "images = listdir(FOLDER)"
   ]
  },
  {
   "cell_type": "code",
   "execution_count": 16,
   "metadata": {},
   "outputs": [],
   "source": [
    "from PIL import Image\n",
    "import numpy as np"
   ]
  },
  {
   "cell_type": "code",
   "execution_count": 30,
   "metadata": {},
   "outputs": [],
   "source": [
    "x_test = []\n",
    "x_labels = []\n",
    "for image in images:\n",
    "    x_labels.append(int(image[0]))\n",
    "    img = Image.open(f'{FOLDER}/{image}')\n",
    "    img = np.array(img)\n",
    "    img = img[:,:,0]\n",
    "    img = img.reshape((28*28))\n",
    "    x_test.append(img)\n",
    "x_labels = np.array(x_labels)"
   ]
  },
  {
   "cell_type": "code",
   "execution_count": 4,
   "metadata": {},
   "outputs": [],
   "source": [
    "import joblib\n",
    "\n",
    "\n",
    "clf = joblib.load('model.sav')"
   ]
  },
  {
   "cell_type": "code",
   "execution_count": 31,
   "metadata": {},
   "outputs": [
    {
     "name": "stdout",
     "output_type": "stream",
     "text": [
      "Actual:     [0 0 1 1 2 2 2 2 2 3 3 4 4 5 5 6 6 7 7 8 8 9 9]\n",
      "Prediction: [6 0 5 1 2 2 2 2 2 3 3 4 4 5 5 6 5 7 4 8 8 8 3]\n"
     ]
    }
   ],
   "source": [
    "prediction = clf.predict(x_test)\n",
    "# score = clf.score(x_test, y_test)\n",
    "# print(f'score = {score:.7f}')\n",
    "print(f'Actual:     {x_labels}')\n",
    "print(f'Prediction: {prediction}')"
   ]
  },
  {
   "cell_type": "code",
   "execution_count": null,
   "metadata": {},
   "outputs": [],
   "source": [
    "print(np.where(prediction[0] == prediction[0].max))"
   ]
  }
 ],
 "metadata": {
  "interpreter": {
   "hash": "9e04c42164a8534f3b6bd2f34ea410f92ab6a0107fd79fd22363540438e3717c"
  },
  "kernelspec": {
   "display_name": "Python 3.10.4 64-bit",
   "language": "python",
   "name": "python3"
  },
  "language_info": {
   "codemirror_mode": {
    "name": "ipython",
    "version": 3
   },
   "file_extension": ".py",
   "mimetype": "text/x-python",
   "name": "python",
   "nbconvert_exporter": "python",
   "pygments_lexer": "ipython3",
   "version": "3.10.4 (tags/v3.10.4:9d38120, Mar 23 2022, 23:13:41) [MSC v.1929 64 bit (AMD64)]"
  },
  "orig_nbformat": 4
 },
 "nbformat": 4,
 "nbformat_minor": 2
}
