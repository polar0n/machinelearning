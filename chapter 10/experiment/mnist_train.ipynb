{
 "cells": [
  {
   "cell_type": "code",
   "execution_count": null,
   "metadata": {},
   "outputs": [],
   "source": [
    "import numpy as np\n",
    "import joblib\n",
    "\n",
    "x_train = np.load('../../data/mnist/super_augmented/train_vectors.npy')\n",
    "y_train = np.load('../../data/mnist/super_augmented/train_labels.npy')\n",
    "x_test = np.load('../../data/mnist/super_augmented/test_vectors.npy')\n",
    "y_test = np.load('../../data/mnist/super_augmented/test_labels.npy')\n",
    "UNIQUE_LABELS = np.unique(y_train)\n",
    "MODEL = 'model.sav'"
   ]
  },
  {
   "cell_type": "code",
   "execution_count": null,
   "metadata": {},
   "outputs": [],
   "source": [
    "clf = joblib.load(MODEL)"
   ]
  },
  {
   "cell_type": "markdown",
   "metadata": {},
   "source": [
    "### Initialize the main MLPClassifier\n",
    "After one training the classifier will be dumped into `model.sav` from where it can be retrieved and further trained.\n",
    "\n",
    "*Run this code only when you want to create a new neural network.*\n",
    "\n",
    "So far, the best shape is for `(50, 20)` and `(500)`"
   ]
  },
  {
   "cell_type": "code",
   "execution_count": null,
   "metadata": {},
   "outputs": [],
   "source": [
    "from sklearn.neural_network import MLPClassifier\n",
    "\n",
    "\n",
    "clf = MLPClassifier(\n",
    "    hidden_layer_sizes=(500),\n",
    "    activation='logistic',\n",
    "    solver='sgd',\n",
    "    tol=1e-6,\n",
    "    max_iter=100,\n",
    "    nesterovs_momentum=False,\n",
    "    verbose=True\n",
    ")\n",
    "joblib.dump(clf, MODEL)"
   ]
  },
  {
   "cell_type": "markdown",
   "metadata": {},
   "source": [
    "### Train the existing MLPClassifier\n",
    "Run this code only when you saved the new neural network in the cell above."
   ]
  },
  {
   "cell_type": "code",
   "execution_count": null,
   "metadata": {},
   "outputs": [],
   "source": [
    "AMOUNT_OF_ITERATIONS = 100\n",
    "for _ in range(AMOUNT_OF_ITERATIONS):\n",
    "    clf.partial_fit(x_train, y_train, UNIQUE_LABELS)\n",
    "\n",
    "print('Saving MLP')\n",
    "joblib.dump(clf, MODEL)\n",
    "print(f'Score: {clf.score(x_test, y_test)}')"
   ]
  },
  {
   "cell_type": "markdown",
   "metadata": {},
   "source": [
    "### Train the existing MLPClassifier at once\n",
    "\n",
    "Run this code when you want to train the model without a partial fit."
   ]
  },
  {
   "cell_type": "code",
   "execution_count": null,
   "metadata": {},
   "outputs": [],
   "source": [
    "clf.fit(x_train, y_train)\n",
    "print('Saving MLP')\n",
    "joblib.dump(clf, MODEL)\n",
    "clf.score(x_test, y_test)"
   ]
  },
  {
   "cell_type": "markdown",
   "metadata": {},
   "source": [
    "### Test multiple shapes and plot their loss"
   ]
  },
  {
   "cell_type": "code",
   "execution_count": null,
   "metadata": {},
   "outputs": [],
   "source": [
    "from sklearn.neural_network import MLPClassifier\n",
    "\n",
    "\n",
    "TEST_SHAPES = ((50, 6), (50, 16), (50, 20))\n",
    "ITER = 80\n",
    "clfs = []\n",
    "losses = []\n",
    "for shape in TEST_SHAPES:\n",
    "    clfs.append(MLPClassifier(\n",
    "        hidden_layer_sizes=shape,\n",
    "        activation='logistic',\n",
    "        solver='sgd',\n",
    "        tol=1e-6,\n",
    "        nesterovs_momentum=False\n",
    "    ))\n",
    "\n",
    "for i in range(ITER):\n",
    "    for clf in clfs:\n",
    "        clf.partial_fit(x_train, y_train, UNIQUE_LABELS)\n",
    "    if (i + 1) % 10 == 0:\n",
    "        print(f'Iteration {i+1}/{ITER}')\n",
    "print('Finished fitting.')\n",
    "\n",
    "x_test = np.load('../../data/mnist/test_vectors.npy')\n",
    "y_test = np.load('../../data/mnist/test_labels.npy')\n",
    "\n",
    "for i in range(len(TEST_SHAPES)):\n",
    "    print(f'score[{i}] = {clfs[i].score(x_test, y_test)}')\n",
    "\n",
    "import matplotlib.pyplot as plt\n",
    "iters = list(range(ITER+1))[1:]\n",
    "for i in range(len(TEST_SHAPES)):\n",
    "    plt.scatter(iters, clfs[i].loss_curve_, label=TEST_SHAPES[i])\n",
    "plt.show()"
   ]
  }
 ],
 "metadata": {
  "interpreter": {
   "hash": "9e04c42164a8534f3b6bd2f34ea410f92ab6a0107fd79fd22363540438e3717c"
  },
  "kernelspec": {
   "display_name": "Python 3.10.4 64-bit",
   "language": "python",
   "name": "python3"
  },
  "language_info": {
   "codemirror_mode": {
    "name": "ipython",
    "version": 3
   },
   "file_extension": ".py",
   "mimetype": "text/x-python",
   "name": "python",
   "nbconvert_exporter": "python",
   "pygments_lexer": "ipython3",
   "version": "3.10.4 (tags/v3.10.4:9d38120, Mar 23 2022, 23:13:41) [MSC v.1929 64 bit (AMD64)]"
  },
  "orig_nbformat": 4
 },
 "nbformat": 4,
 "nbformat_minor": 2
}
